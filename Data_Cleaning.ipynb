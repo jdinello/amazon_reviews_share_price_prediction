{
 "cells": [
  {
   "cell_type": "markdown",
   "metadata": {},
   "source": [
    "# Collecting Amazon Reviews\n",
    "\n",
    "To start this process I am going to select which categories would be the most suitable for this project. The goal of this project is to predict a companies stock market price based on it's products reviews on Amazon. The inspiration for this project came from a large public dataset that amazon hosts on AWS for all of its products, however this data did not fit the requirements for our needs. The AWS customer reviews dataset did not tell us what company a specific product came from. There was no unique ID of an Amazon listing to relate to each review. So instead, a dataset collected by Jianmo Ni from UCSD will be used instead. A link to this dataset can be found [here](http://deepyeti.ucsd.edu/jianmo/amazon/index.html).\n",
    "    \n",
    "    This dataset is broken up into several product categories. There are files in each category that relate to the product reviews and for the metadata. This metadata includes the product title, an image URL, the product ranking, the category, and most importantly the product's brand name. The categories included in the data are as follows:\n",
    "    - AMAZON FASHION\n",
    "    - All Beauty\n",
    "    - Appliances\n",
    "    - Arts Crafts and Sewing\n",
    "    - Automotive\n",
    "    - Books\n",
    "    - CDs and Vinyl\n",
    "    - Cell Phones and Accessories\n",
    "    - Clothing Shoes and Jewelry\n",
    "    - Digital Music\n",
    "    - Electronics\n",
    "    - Gift Cards\n",
    "    - Grocery and Gourmet Food\n",
    "    - Home and Kitchen\n",
    "    - Industrial and Scientific\n",
    "    - Kindle Store\n",
    "    - Luxury Beauty\n",
    "    - Magazine Subscriptions\n",
    "    - Movies and TV\n",
    "    - Musical Instruments\n",
    "    - Office Products\n",
    "    - Patio Lawn and Garden\n",
    "    - Pet Supplies\n",
    "    - Prime Pantry\n",
    "    - Software\n",
    "    - Sports and Outdoors\n",
    "    - Tools and Home Improvement\n",
    "    - Toys and Games\n",
    "    - Video Games"
   ]
  },
  {
   "cell_type": "code",
   "execution_count": 3,
   "metadata": {},
   "outputs": [],
   "source": [
    "import gzip\n",
    "import os\n",
    "import json\n",
    "import pandas as pd\n",
    "import numpy as np\n",
    "import matplotlib.pyplot as plt\n",
    "import seaborn as sns\n",
    "from datetime import timedelta\n",
    "from business_calendar import Calendar"
   ]
  },
  {
   "cell_type": "code",
   "execution_count": 4,
   "metadata": {},
   "outputs": [],
   "source": [
    "def meta_reviews_df(reviews_file, meta_file, brands=[]):\n",
    "    ### This function takes merges a reviews file and its associated metadata. It then reformats the dates to the nearest business day ###\n",
    "    meta = []\n",
    "    with gzip.open(meta_file) as f:\n",
    "        for l in f:\n",
    "            meta.append(json.loads(l.strip()))\n",
    "\n",
    "    meta_df = pd.DataFrame.from_dict(meta)\n",
    "    meta_df = meta_df.fillna('')\n",
    "    meta_df = meta_df[~meta_df.title.str.contains('getTime')] # filter unformatted rows\n",
    "    meta_df['brand'] = meta_df.brand.str.replace('by\\n    \\n    ', '').values\n",
    "    if brands:\n",
    "    # if there are no brands within the parameters, the function will do a full merge of meta and review files. Useful for data exploration\n",
    "        meta_df_brands = pd.concat([meta_df[meta_df['brand'] == brand] for brand in brands], axis=0)\n",
    "    else:\n",
    "        meta_df_brands = meta_df\n",
    "    print('Meta_brands_df Completed')\n",
    "    \n",
    "    reviews = []\n",
    "\n",
    "    with gzip.open(reviews_file) as f:\n",
    "        for l in f:\n",
    "            reviews.append(json.loads(l.strip()))\n",
    "\n",
    "    reviews_df = pd.DataFrame.from_dict(reviews)\n",
    "    reviews_df = reviews_df.fillna('')\n",
    "    \n",
    "    print('reviews_df finished')\n",
    "    \n",
    "    review_data = reviews_df[['asin', 'overall', 'unixReviewTime']]\n",
    "    meta_data = meta_df_brands[['asin', 'brand']]\n",
    "    join_data = review_data.merge(meta_data, how='inner', on='asin')\n",
    "    \n",
    "    print('join_data finished merging')\n",
    "    \n",
    "    # The holidays_all dict is lists every day within my daterange that the stock market was closed within the business calander\n",
    "    holidays_all = {}\n",
    "    holidays_all[1998] = ['01-01','01-19', '02-16','04-10', '05-25', '07-03', '09-07', '11-26', '12-25']\n",
    "    holidays_all[1999] = ['01-01','01-18','02-15','04-02','05-31','07-05','09-06','11-25','12-25']\n",
    "    holidays_all[2000] = ['01-01','01-17','02-21','04-21','05-29','07-04','09-04','11-23','12-25']\n",
    "    holidays_all[2001] = ['01-01', '01-15','02-19','04-13','05-28', '07-04','09-03','11-22','12-25']\n",
    "    holidays_all[2002] = ['01-01','01-21','02-18','03-29','05-27', '07-04','09-02','11-28','12-25']\n",
    "    holidays_all[2003] = ['01-01','01-20','02-17','04-18','05-26','07-04','09-01','11-27','12-25']\n",
    "    holidays_all[2004] = ['01-01','01-19','02-16','04-09','05-31','07-05','09-06','11-25','12-24']\n",
    "    holidays_all[2005] = ['01-17','02-21','03-25','05-30','07-04','09-05','11-24','12-26']\n",
    "    holidays_all[2006] = ['01-02','01-16','02-20','04-14','05-29','07-04','09-04','11-23','12-25']\n",
    "    holidays_all[2007] = ['01-01','01-15','02-19','04-06','05-28','07-04', '09-03','11-22','12-25']\n",
    "    holidays_all[2008] = ['01-01','01-21','02-18','03-21','05-26','07-04','09-01','11-27','12-25']\n",
    "    holidays_all[2009] = ['01-01','01-19','02-16', '04-10', '05-25','07-03','09-07','11-26','12-25']\n",
    "    holidays_all[2010] = ['01-01','01-18','02-15','04-02','05-31','07-05','09-06','11-25','12-24']\n",
    "    holidays_all[2011] = ['01-17','02-21','04-22','05-30','07-04','09-05','11-24','12-26']\n",
    "    holidays_all[2012] = ['01-02','01-16','02-20','04-06','05-28','07-04','09-03','11-22','12-25']\n",
    "    holidays_all[2013] = ['01-01','01-21','02-18','03-29','05-27','07-04','09-02','11-28','12-25']\n",
    "    holidays_all[2014] = ['01-01','01-20','02-17','04-18','05-26','07-04','09-01','11-27','12-25']\n",
    "    holidays_all[2015] = ['01-01','01-19','02-16','04-03','05-25','07-03','09-07','11-26','12-25']\n",
    "    holidays_all[2016] = ['01-01','01-18','02-15','03-25','05-30','07-04','09-05','11-24','12-26']\n",
    "    holidays_all[2017] = ['01-02','01-16','02-20','04-14','05-29','07-04','09-04','11-23','12-25']\n",
    "    holidays_all[2018] = ['01-01','01-15','02-19','03-30','05-28','07-04','09-03','11-22','12-25']\n",
    "    for i in range(1998, 2019):\n",
    "        prefix = str(i) + '-'\n",
    "        holidays_all[i] = [prefix + x for x in holidays_all[i]]\n",
    "\n",
    "    holidays = []\n",
    "    for k, v in holidays_all.items():\n",
    "        for x in v:\n",
    "            holidays.append(x)\n",
    "\n",
    "\n",
    "    cal = Calendar()\n",
    "    date_time = pd.to_datetime(join_data['unixReviewTime'], infer_datetime_format=True, unit='s', cache=True)\n",
    "    month_after = []\n",
    "    \n",
    "    print('Holidays Collected')\n",
    "    \n",
    "    for idx, val in enumerate(date_time):\n",
    "            if val.strftime('%Y-%m-%d') in holidays:\n",
    "                val = val + timedelta(days=1)\n",
    "            date = cal.adjust(val, 1)\n",
    "            date_time[idx] = date\n",
    "            month_val = cal.addbusdays(val,20)\n",
    "            month_after.append(month_val)\n",
    "    \n",
    "    print('Day Values adjusted and month values calculated')\n",
    "    \n",
    "    join_data['date_time'] = date_time\n",
    "    join_data['month_after'] = month_after\n",
    "\n",
    "    return join_data.drop('unixReviewTime', axis=1)"
   ]
  },
  {
   "cell_type": "code",
   "execution_count": 5,
   "metadata": {},
   "outputs": [],
   "source": [
    "def stock_df(meta_rev_file_f, cat, stock_files=[], brands=[]):\n",
    "    ### This function is used to merge a joined reviews dataframe to its associated stock values and the values of its stock one month later ###\n",
    "    stock_dfs = [pd.read_csv(stock) for stock in stock_files]\n",
    "    for i in range(len(stock_dfs)):\n",
    "        stock_dfs[i]['brand'] = brands[i]\n",
    "        \n",
    "    stock_df = pd.concat(stock_dfs, axis=0)        \n",
    "    \n",
    "    stock_df['date_time'] = stock_df['Date']\n",
    "    stock_df.drop('Date', axis=1, inplace=True)\n",
    "    meta_rev_file = meta_rev_file_f[['asin', 'overall', 'brand', 'date_time', 'month_after']].copy()\n",
    "    meta_rev_file['date_time'] = meta_rev_file['date_time'].astype('str')\n",
    "    meta_rev_file['month_after'] = meta_rev_file['month_after'].astype('str')\n",
    "    m_dt = pd.merge(stock_df, meta_rev_file)\n",
    "    \n",
    "    new_cols = ['Open_month_after','High_month_after','Low_month_after','Close_month_after','Adj Close_month_after','Volume_month_after','brand','month_after']\n",
    "    stock_df.columns = new_cols\n",
    "    \n",
    "    m_f = m_dt.merge(stock_df, how='inner')\n",
    "    m_f['cat'] = cat\n",
    "    return m_f"
   ]
  },
  {
   "cell_type": "code",
   "execution_count": 18,
   "metadata": {},
   "outputs": [
    {
     "name": "stdout",
     "output_type": "stream",
     "text": [
      "Meta_brands_df Completed\n",
      "reviews_df finished\n",
      "join_data finished merging\n",
      "Holidays Collected\n",
      "Day Values adjusted and month values calculated\n"
     ]
    },
    {
     "data": {
      "text/plain": [
       "<matplotlib.axes._subplots.AxesSubplot at 0x1c33a9525f8>"
      ]
     },
     "execution_count": 18,
     "metadata": {},
     "output_type": "execute_result"
    },
    {
     "data": {
      "image/png": "[encoded data removed]",
      "text/plain": [
       "<Figure size 432x288 with 1 Axes>"
      ]
     },
     "metadata": {
      "needs_background": "light"
     },
     "output_type": "display_data"
    }
   ],
   "source": [
    "t = meta_reviews_df('Tools_and_Home_Improvement.json.gz', 'meta_Tools_and_Home_Improvement.json.gz')\n",
    "t.brand.value_counts().sort_values(ascending=False)[:20].plot(kind='barh')"
   ]
  },
  {
   "cell_type": "markdown",
   "metadata": {},
   "source": [
    "When choosing brands it is important to find companies that are publicy traded and have a large number of reviews in order to provide more input data for the model."
   ]
  },
  {
   "cell_type": "code",
   "execution_count": 12,
   "metadata": {},
   "outputs": [
    {
     "name": "stdout",
     "output_type": "stream",
     "text": [
      "Meta_brands_df Completed\n",
      "reviews_df finished\n",
      "join_data finished merging\n",
      "Holidays Collected\n",
      "Day Values adjusted and month values calculated\n"
     ]
    },
    {
     "data": {
      "text/plain": [
       "Whirlpool     106725\n",
       "GE             40085\n",
       "Electrolux     38029\n",
       "Samsung        18872\n",
       "Name: brand, dtype: int64"
      ]
     },
     "execution_count": 12,
     "metadata": {},
     "output_type": "execute_result"
    }
   ],
   "source": [
    "appliances = meta_reviews_df('Appliances.json.gz', 'meta_Appliances.json.gz', brands=['GE', 'Whirlpool', 'Electrolux', 'Frigidaire', 'Samsung'])\n",
    "\n",
    "# Because Frigidaire is a subsidiary of Electrolux they will be represented by their parent comapny \n",
    "appliances['brand'] = appliances['brand'].apply(lambda x: 'Electrolux' if x =='Frigidaire' else x)\n",
    "appliances.brand.value_counts()"
   ]
  },
  {
   "cell_type": "code",
   "execution_count": 13,
   "metadata": {},
   "outputs": [],
   "source": [
    "appliance_stocks = stock_df(appliances, 'Appliances', stock_files=['GE.csv', 'WHR.csv', 'ELUXY.csv', 'SMSN.IL.csv'], brands=['GE', 'Whirlpool', 'Electrolux', 'Samsung'])\n",
    "appliance_stocks.to_csv('appliances_stocks.csv')"
   ]
  },
  {
   "cell_type": "code",
   "execution_count": 15,
   "metadata": {},
   "outputs": [
    {
     "name": "stdout",
     "output_type": "stream",
     "text": [
      "Meta_brands_df Completed\n",
      "reviews_df finished\n",
      "join_data finished merging\n",
      "Holidays Collected\n",
      "Day Values adjusted and month values calculated\n"
     ]
    }
   ],
   "source": [
    "clothing = meta_reviews_df('Clothing_Shoes_and_Jewelry.json.gz', 'meta_Clothing_Shoes_and_Jewelry.json.gz', brands=['Nike', 'adidas', 'Columbia', 'Vans'])"
   ]
  },
  {
   "cell_type": "code",
   "execution_count": 17,
   "metadata": {},
   "outputs": [],
   "source": [
    "clothing_stocks = stock_df(clothing, 'Clothing', stock_files=['NKE.csv', 'ADDYY.csv', 'COLM.csv', 'VFC.csv'], brands=['Nike', 'adidas', 'Columbia', 'Vans'])"
   ]
  },
  {
   "cell_type": "code",
   "execution_count": 19,
   "metadata": {},
   "outputs": [],
   "source": [
    "clothing_stocks.to_csv('Clothing_stocks.csv')"
   ]
  },
  {
   "cell_type": "code",
   "execution_count": 57,
   "metadata": {},
   "outputs": [
    {
     "name": "stdout",
     "output_type": "stream",
     "text": [
      "Meta_brands_df Completed\n",
      "reviews_df finished\n",
      "join_data finished merging\n",
      "Holidays Collected\n",
      "Day Values adjusted and month values calculated\n"
     ]
    }
   ],
   "source": [
    "electronics = meta_reviews_df('Electronics.json.gz', 'meta_Electronics.json.gz', brands=['Apple', 'Microsoft', 'Sony', 'Samsung', 'Canon', 'Nikon', 'LG', 'Panasonic'])"
   ]
  },
  {
   "cell_type": "code",
   "execution_count": 59,
   "metadata": {},
   "outputs": [],
   "source": [
    "electronics_stocks = stock_df(electronics, 'Electronics', stock_files=['AAPL.csv', 'MSFT.csv', 'SNE.csv', 'SMSN.IL.csv','CAJ.csv', 'NINOY.csv', 'LPL.csv', 'PCRFY.csv'], brands=['Apple', 'Microsoft', 'Canon', 'Nikon', 'LG', 'Panasonic'])"
   ]
  },
  {
   "cell_type": "code",
   "execution_count": 61,
   "metadata": {},
   "outputs": [],
   "source": [
    "electronics_stocks.to_csv('electronics_stocks.csv')"
   ]
  },
  {
   "cell_type": "code",
   "execution_count": 7,
   "metadata": {},
   "outputs": [
    {
     "name": "stdout",
     "output_type": "stream",
     "text": [
      "Meta_brands_df Completed\n",
      "reviews_df finished\n",
      "join_data finished merging\n",
      "Holidays Collected\n",
      "Day Values adjusted and month values calculated\n"
     ]
    },
    {
     "data": {
      "text/plain": [
       "Under Armour      109592\n",
       "adidas            102942\n",
       "Columbia           56930\n",
       "Nike               43471\n",
       "The North Face     10454\n",
       "Name: brand, dtype: int64"
      ]
     },
     "execution_count": 7,
     "metadata": {},
     "output_type": "execute_result"
    }
   ],
   "source": [
    "sports = meta_reviews_df('Sports_and_Outdoors.json.gz', 'meta_Sports_and_Outdoors.json.gz', brands=['Nike', 'adidas', 'Columbia', 'Under Armour', 'The North Face'])\n",
    "sports.brand.value_counts()"
   ]
  },
  {
   "cell_type": "code",
   "execution_count": 8,
   "metadata": {},
   "outputs": [],
   "source": [
    "sports_stocks = stock_df(sports, 'Sports_and_Outdoors', stock_files=['NKE.csv', 'ADDYY.csv', 'COLM.csv', 'UA.csv', 'VFC.csv'], brands=['Nike', 'adidas', 'Columbia', 'Under Armour', 'North Face'])\n",
    "sports_stocks.to_csv('sport_stocks.csv')"
   ]
  },
  {
   "cell_type": "code",
   "execution_count": 10,
   "metadata": {},
   "outputs": [
    {
     "name": "stdout",
     "output_type": "stream",
     "text": [
      "Meta_brands_df Completed\n",
      "reviews_df finished\n",
      "join_data finished merging\n",
      "Holidays Collected\n",
      "Day Values adjusted and month values calculated\n"
     ]
    }
   ],
   "source": [
    "tools = meta_reviews_df('Tools_and_Home_Improvement.json.gz', 'meta_Tools_and_Home_Improvement.json.gz', brands=['GE', 'Honeywell', 'DEWALT', 'BLACK+DECKER', 'Stanley', '3M'])\n",
    "tools['brand'] = tools['brand'].apply(lambda x: 'Stanley Black & Decker' if x in ['DEWALT', 'BLACK+DECKER', 'Stanley'] else x )"
   ]
  },
  {
   "cell_type": "code",
   "execution_count": 12,
   "metadata": {},
   "outputs": [],
   "source": [
    "tools_stocks = stock_df(tools, 'Tools_and_Home_Improvement', stock_files=['GE.csv', 'HON.csv', 'SWK.csv', 'MMM.csv'], brands=['GE', 'Honeywell', 'Stanley Black & Decker', '3M'])\n",
    "tools_stocks.to_csv('tools_stocks.csv')"
   ]
  },
  {
   "cell_type": "code",
   "execution_count": 7,
   "metadata": {},
   "outputs": [],
   "source": [
    "video_games = meta_reviews_df('Video_Games.json.gz', 'meta_Video_Games.json.gz', brands=['Sony', 'Microsoft', 'Nintendo', 'Ubisoft', 'Square Enix', 'Electronic Arts', 'Activision'])\n",
    "video_game_stocks = stock_df(video_games, 'Video Games', stock_files=['SNE.csv', 'MSFT.csv', 'NTDOY.csv', 'UBSFF.csv', 'SQNXF.csv', 'EA.csv', 'ATVI.csv' ])"
   ]
  },
  {
   "cell_type": "code",
   "execution_count": 8,
   "metadata": {},
   "outputs": [],
   "source": [
    "video_game_stocks.to_csv('video_game_stocks.csv')"
   ]
  }
 ],
 "metadata": {
  "kernelspec": {
   "display_name": "Python 3",
   "language": "python",
   "name": "python3"
  },
  "language_info": {
   "codemirror_mode": {
    "name": "ipython",
    "version": 3
   },
   "file_extension": ".py",
   "mimetype": "text/x-python",
   "name": "python",
   "nbconvert_exporter": "python",
   "pygments_lexer": "ipython3",
   "version": "3.7.3"
  }
 },
 "nbformat": 4,
 "nbformat_minor": 4
}
